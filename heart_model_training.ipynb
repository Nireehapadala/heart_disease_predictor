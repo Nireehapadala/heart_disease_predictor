{
  "nbformat": 4,
  "nbformat_minor": 0,
  "metadata": {
    "colab": {
      "provenance": []
    },
    "kernelspec": {
      "name": "python3",
      "display_name": "Python 3"
    },
    "language_info": {
      "name": "python"
    }
  },
  "cells": [
    {
      "cell_type": "code",
      "source": [
        "labels='age\tsex\tcp\ttrestbps\trestecg\tthalach\texang\toldpeak\tslope\tca\tthal'.split()\n",
        "labels"
      ],
      "metadata": {
        "colab": {
          "base_uri": "https://localhost:8080/"
        },
        "id": "22HKdEF9N7C_",
        "outputId": "d4cb6b25-06f4-4c3b-b0d8-13dca1aaf75d"
      },
      "execution_count": 36,
      "outputs": [
        {
          "output_type": "execute_result",
          "data": {
            "text/plain": [
              "['age',\n",
              " 'sex',\n",
              " 'cp',\n",
              " 'trestbps',\n",
              " 'restecg',\n",
              " 'thalach',\n",
              " 'exang',\n",
              " 'oldpeak',\n",
              " 'slope',\n",
              " 'ca',\n",
              " 'thal']"
            ]
          },
          "metadata": {},
          "execution_count": 36
        }
      ]
    },
    {
      "cell_type": "code",
      "source": [
        "input_data=[]\n",
        "for label in labels:\n",
        "  input_data.append(float(input(label+': ')))\n",
        "input_data"
      ],
      "metadata": {
        "colab": {
          "base_uri": "https://localhost:8080/"
        },
        "id": "W_h-HsVSO90-",
        "outputId": "47c0bdb4-2e0c-4d19-85f9-582de455d036"
      },
      "execution_count": 37,
      "outputs": [
        {
          "name": "stdout",
          "output_type": "stream",
          "text": [
            "age: 25\n",
            "sex: 1\n",
            "cp: 1\n",
            "trestbps: 1\n",
            "restecg: 1\n",
            "thalach: 1\n",
            "exang: 1\n",
            "oldpeak: 1\n",
            "slope: 1\n",
            "ca: 1\n",
            "thal: 1\n"
          ]
        },
        {
          "output_type": "execute_result",
          "data": {
            "text/plain": [
              "[25.0, 1.0, 1.0, 1.0, 1.0, 1.0, 1.0, 1.0, 1.0, 1.0, 1.0]"
            ]
          },
          "metadata": {},
          "execution_count": 37
        }
      ]
    },
    {
      "cell_type": "code",
      "source": [
        "from keras.models import load_model\n",
        "import numpy as np\n",
        "obj = load_model('/content/heart (1).h5')\n",
        "in_array=np.array(input_data)\n",
        "# Reshape the input array to have a batch dimension\n",
        "in_array = in_array.reshape(1, -1)\n",
        "result = obj.predict(in_array)\n",
        "# The prediction result will be an array, even for a single input.\n",
        "# We need to access the first (and only) element to get the prediction score.\n",
        "if result[0]>0.5:\n",
        "  print(\"Heart Disease\")\n",
        "else:\n",
        "  print(\"No Heart Disease\")"
      ],
      "metadata": {
        "colab": {
          "base_uri": "https://localhost:8080/"
        },
        "id": "_ygkmo4pPLAN",
        "outputId": "8af446ae-600e-46bf-8a62-7111bfeed0c9"
      },
      "execution_count": 40,
      "outputs": [
        {
          "output_type": "stream",
          "name": "stderr",
          "text": [
            "WARNING:absl:Compiled the loaded model, but the compiled metrics have yet to be built. `model.compile_metrics` will be empty until you train or evaluate the model.\n"
          ]
        },
        {
          "output_type": "stream",
          "name": "stdout",
          "text": [
            "\u001b[1m1/1\u001b[0m \u001b[32m━━━━━━━━━━━━━━━━━━━━\u001b[0m\u001b[37m\u001b[0m \u001b[1m0s\u001b[0m 115ms/step\n",
            "No Heart Disease\n"
          ]
        }
      ]
    },
    {
      "cell_type": "code",
      "source": [],
      "metadata": {
        "id": "13bwddo6VHjx"
      },
      "execution_count": null,
      "outputs": []
    }
  ]
}